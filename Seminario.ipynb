{
  "nbformat": 4,
  "nbformat_minor": 0,
  "metadata": {
    "colab": {
      "name": "Seminario.ipynb",
      "provenance": [],
      "collapsed_sections": [],
      "include_colab_link": true
    },
    "kernelspec": {
      "name": "python3",
      "display_name": "Python 3"
    }
  },
  "cells": [
    {
      "cell_type": "markdown",
      "metadata": {
        "id": "view-in-github",
        "colab_type": "text"
      },
      "source": [
        "<a href=\"https://colab.research.google.com/github/mgmontealegre/SEMINARIO/blob/master/Seminario.ipynb\" target=\"_parent\"><img src=\"https://colab.research.google.com/assets/colab-badge.svg\" alt=\"Open In Colab\"/></a>"
      ]
    },
    {
      "cell_type": "markdown",
      "metadata": {
        "id": "hVbXYX-RfPWh",
        "colab_type": "text"
      },
      "source": [
        "# Algoritmos de optimización - Seminario<br>\n",
        "Nombre y Apellidos: Mario García Montealegre  <br>\n",
        "Url: https://github.com/.../03MAIR---Algoritmos-de-Optimizacion---2019/tree/master/SEMINARIO<br><br>\n",
        "Problema: Combinar cifras y operaciones\n",
        "\n",
        "Descripción del problema: consiste en analizar el siguiente problema y diseñar un algoritmo que lo resuelva. Disponemos de las 9 cifras del 1 al 9 (excluimos el cero) y de los 4 signos básicos de las operaciones fundamentales: suma(+), resta(-), multiplicación(*) y división(/). Debemos combinarlos alternativamente sin repetir ninguno de ellos para obtener una cantidad dada. Un ejemplo sería para obtener el 4.\n",
        "\n",
        "(*) La respuesta es obligatoria\n",
        "\n",
        "\n",
        "\n",
        "\n",
        "\n",
        "                                        "
      ]
    },
    {
      "cell_type": "markdown",
      "metadata": {
        "id": "3_-exlrTgLd-",
        "colab_type": "text"
      },
      "source": [
        "(*)¿Cuantas posibilidades hay sin tener en cuenta las restricciones?<br>\n",
        "\n",
        "\n",
        "\n",
        "¿Cuantas posibilidades hay teniendo en cuenta todas las restricciones.\n",
        "\n",
        "\n"
      ]
    },
    {
      "cell_type": "markdown",
      "metadata": {
        "id": "WfCUqJyKhPcw",
        "colab_type": "text"
      },
      "source": [
        "Respuesta"
      ]
    },
    {
      "cell_type": "markdown",
      "metadata": {
        "id": "hLxIAOGxKMOt",
        "colab_type": "text"
      },
      "source": [
        "El número de posibilidades que hay sin tener en cuenta las restricciones es de 441.792. Al no tener restricciones estaríamos contemplando ecuaciones que obtienen como resultado el número 4, pero que pueden contener un número de signos menor al que dice el enunciado.\n",
        "El número de posibilidades que hay teniendo en cuenta las restricciones es de 2.112. Estos números han sido extraídos con los códigos que se detallan más abajo."
      ]
    },
    {
      "cell_type": "markdown",
      "metadata": {
        "id": "dzynfVJahHoY",
        "colab_type": "text"
      },
      "source": [
        "Modelo para el espacio de soluciones<br>\n",
        "(*) ¿Cual es la estructura de datos que mejor se adapta al problema? Argumentalo.(Es posible que hayas elegido una al principio y veas la necesidad de cambiar, arguentalo)\n"
      ]
    },
    {
      "cell_type": "markdown",
      "metadata": {
        "id": "xFIJrOwKi2Ti",
        "colab_type": "text"
      },
      "source": [
        "Respuesta"
      ]
    },
    {
      "cell_type": "markdown",
      "metadata": {
        "id": "gfrpZzc55-uz",
        "colab_type": "text"
      },
      "source": [
        "En un principio, elegí como estructura de datos un dataframe, ya que por mi trabajo estoy más acostumbrado a operar con dataframes en mi día a día. No tardé mucho tiempo en darme cuenta que para realizar un número de operaciones tan grande, no iba a ser eficiente operar por las filas de un dataframe sino que la opción más factible sería la utilización de listas."
      ]
    },
    {
      "cell_type": "markdown",
      "metadata": {
        "id": "7Z9U2W7bi-XS",
        "colab_type": "text"
      },
      "source": [
        "Según el modelo para el espacio de soluciones<br>\n",
        "(*)¿Cual es la función objetivo?\n",
        "\n",
        "(*)¿Es un problema de maximización o minimización?"
      ]
    },
    {
      "cell_type": "markdown",
      "metadata": {
        "id": "hBalWLM7j1_d",
        "colab_type": "text"
      },
      "source": [
        "Respuesta"
      ]
    },
    {
      "cell_type": "markdown",
      "metadata": {
        "id": "a82pQ6kD6RQS",
        "colab_type": "text"
      },
      "source": [
        "La función objetivo es obtener como resultado utilizando todos los signos básicos de operaciones fundamentales y sin repetirlos. En este caso no se trata de un problema de maximización o minimización sino de búsqueda."
      ]
    },
    {
      "cell_type": "markdown",
      "metadata": {
        "id": "rlnTYgY1j6I2",
        "colab_type": "text"
      },
      "source": [
        "Diseña un algoritmo para resolver el problema por fuerza bruta"
      ]
    },
    {
      "cell_type": "markdown",
      "metadata": {
        "id": "70rDgxYXkC8r",
        "colab_type": "text"
      },
      "source": [
        "Respuesta"
      ]
    },
    {
      "cell_type": "code",
      "metadata": {
        "id": "CJb5sQ0qkENy",
        "colab_type": "code",
        "colab": {}
      },
      "source": [
        "from itertools import chain, permutations\n",
        "import timeit\n",
        "\n",
        "start = timeit.default_timer()\n",
        "\n",
        "\n",
        "# Definimos la función powerset que será la encarga crear las iteraciones\n",
        "def powerset(iterable):\n",
        "  s = list(iterable)\n",
        "  return chain.from_iterable(permutations(s,n) for n in range(len(s)+1) )\n",
        "\n",
        "# Definimos el vector de números por lo que iterar\n",
        "expresiones = []\n",
        "num_string = list(map(str,range(1, 10, 1)))\n",
        "\n",
        "# Creamos el bucle que iterará por todas y cada una de las combinaciones de números y signos\n",
        "for operaciones in map(list, powerset(num_string)):\n",
        "    print(operaciones)\n",
        "    n = len(operaciones)\n",
        "    if n > 1:\n",
        "        all_operators = map(list, permutations(['+','-','*','/'],n-1))\n",
        "        for operadores in all_operators:\n",
        "            exp = operaciones[0]\n",
        "            numeros = (operaciones[0],)\n",
        "            i = 1\n",
        "            for operador in operadores:\n",
        "                exp += operador + operaciones[i]\n",
        "                numeros += (operaciones[i],)\n",
        "                i += 1\n",
        "\n",
        "            expresiones += [{'exp': exp, 'numbers': tuple(sorted(numeros))}]\n",
        "\n",
        "pasos = []\n",
        "soluciones = []\n",
        "numbers_sets = set()\n",
        "\n",
        "\n",
        "# Iteramos por cada una de las ecuaciones creadas arriba y nos quedamos con las que se obtenga como resultado 4\n",
        "for elemento in expresiones:\n",
        "    ecuacion = elemento['exp']\n",
        "    numeros = elemento['numbers']\n",
        "    if numeros not in numbers_sets and eval(ecuacion) == 4:\n",
        "            pasos.append(ecuacion)\n",
        "            ecu = str(ecuacion) + '=' + str(eval(ecuacion))\n",
        "            soluciones.append(ecu)\n",
        "            #print(ecu, numeros)\n",
        "  \n",
        "# Filtramos de entre todas las soluciones que den como resultado 4 por las que contengan los 4 signos\n",
        "result = [item for item in soluciones if len(item)==13]\n",
        "\n",
        "stop = timeit.default_timer()\n",
        "\n",
        "print('Time: ', stop - start)  \n",
        "            "
      ],
      "execution_count": null,
      "outputs": []
    },
    {
      "cell_type": "markdown",
      "metadata": {
        "id": "tgrnsC2nkFa8",
        "colab_type": "text"
      },
      "source": [
        "Calcula la complejidad del algoritmo por fuerza bruta"
      ]
    },
    {
      "cell_type": "markdown",
      "metadata": {
        "id": "9eUd3xwckP68",
        "colab_type": "text"
      },
      "source": [
        "Respuesta"
      ]
    },
    {
      "cell_type": "markdown",
      "metadata": {
        "id": "_GL5OlhJPnIf",
        "colab_type": "text"
      },
      "source": [
        "La complejidad del algoritmo de de fuerza bruta es de $O(n^a)$"
      ]
    },
    {
      "cell_type": "markdown",
      "metadata": {
        "id": "txbrmLmskReM",
        "colab_type": "text"
      },
      "source": [
        "(*)Diseña un algoritmo que mejore la complejidad del algortimo por fuerza bruta. Argumenta porque crees que mejora el algoritmo por fuerza bruta"
      ]
    },
    {
      "cell_type": "markdown",
      "metadata": {
        "id": "hLrVwt5QkZPD",
        "colab_type": "text"
      },
      "source": [
        "Respuesta"
      ]
    },
    {
      "cell_type": "code",
      "metadata": {
        "id": "m1eyM21Vkabg",
        "colab_type": "code",
        "colab": {}
      },
      "source": [
        "\n",
        "from itertools import chain, permutations\n",
        "import timeit\n",
        "\n",
        "start = timeit.default_timer()\n",
        "\n",
        "# Definimos la función powerset que será la encarga crear las iteraciones\n",
        "def powerset(iterable):\n",
        "  s = list(iterable)\n",
        "  return chain.from_iterable(permutations(s,n) for n in range(len(s)+1) )\n",
        "\n",
        "# Definimos el vector de números por lo que iterar\n",
        "expresiones = []\n",
        "num_string = list(map(str,range(1, 10, 1)))\n",
        "\n",
        "# Creamos el bucle que iterará por las combinaciones de números y signos con longitud 5 que es la que nos interesa en este caso\n",
        "for operaciones in map(list, powerset(num_string)):\n",
        "    n = len(operaciones)\n",
        "    if n == 5:\n",
        "        all_operators = map(list, permutations(['+','-','*','/'],n-1))\n",
        "        for operadores in all_operators:\n",
        "            exp = operaciones[0]\n",
        "            numeros = (operaciones[0],)\n",
        "            i = 1\n",
        "            for operador in operadores:\n",
        "                exp += operador + operaciones[i]\n",
        "                numeros += (operaciones[i],)\n",
        "                i += 1\n",
        "\n",
        "            expresiones += [{'exp': exp, 'numbers': tuple(sorted(numeros))}]\n",
        "\n",
        "pasos = []\n",
        "soluciones = []\n",
        "numbers_sets = set()\n",
        "\n",
        "# Iteramos por cada una de las ecuaciones creadas arriba y nos quedamos con las que se obtenga como resultado 4\n",
        "for elemento in expresiones:\n",
        "    ecuacion = elemento['exp']\n",
        "    numeros = elemento['numbers']\n",
        "    if numeros not in numbers_sets and eval(ecuacion) == 4:\n",
        "            pasos.append(ecuacion)\n",
        "            ecu = str(ecuacion) + '=' + str(eval(ecuacion))\n",
        "            soluciones.append(ecu)\n",
        "\n",
        "stop = timeit.default_timer()\n",
        "\n",
        "print('Time: ', stop - start)           "
      ],
      "execution_count": null,
      "outputs": []
    },
    {
      "cell_type": "markdown",
      "metadata": {
        "id": "eGDB4K6uk1iN",
        "colab_type": "text"
      },
      "source": [
        "(*)Calcula la complejidad del algoritmo "
      ]
    },
    {
      "cell_type": "markdown",
      "metadata": {
        "id": "NhpTh_BPk1ms",
        "colab_type": "text"
      },
      "source": [
        "Respuesta"
      ]
    },
    {
      "cell_type": "markdown",
      "metadata": {
        "id": "9RAMMY9sO_zR",
        "colab_type": "text"
      },
      "source": [
        "La complejidad del algoritmo de búsqueda es de $O(n^a)$\n",
        "\n"
      ]
    },
    {
      "cell_type": "markdown",
      "metadata": {
        "id": "3M6QjTsSkmYe",
        "colab_type": "text"
      },
      "source": [
        "Según el problema (y tenga sentido), diseña un juego de datos de entrada aleatorios"
      ]
    },
    {
      "cell_type": "markdown",
      "metadata": {
        "id": "Jc3_OlyNkvjZ",
        "colab_type": "text"
      },
      "source": [
        "Respuesta"
      ]
    },
    {
      "cell_type": "code",
      "metadata": {
        "id": "sJ-N2etjkyWc",
        "colab_type": "code",
        "colab": {}
      },
      "source": [
        ""
      ],
      "execution_count": null,
      "outputs": []
    },
    {
      "cell_type": "markdown",
      "metadata": {
        "id": "zy5ZROmjlGo1",
        "colab_type": "text"
      },
      "source": [
        "Aplica el algoritmo al juego de datos generado"
      ]
    },
    {
      "cell_type": "markdown",
      "metadata": {
        "id": "_Cmj-PVylMsa",
        "colab_type": "text"
      },
      "source": [
        "Respuesta"
      ]
    },
    {
      "cell_type": "code",
      "metadata": {
        "id": "Jkx8GeiYlUz1",
        "colab_type": "code",
        "colab": {}
      },
      "source": [
        ""
      ],
      "execution_count": null,
      "outputs": []
    },
    {
      "cell_type": "markdown",
      "metadata": {
        "colab_type": "text",
        "id": "eTFWUJQrtGcv"
      },
      "source": [
        "Enumera las referencias que has utilizado(si ha sido necesario) para llevar a cabo el trabajo"
      ]
    },
    {
      "cell_type": "markdown",
      "metadata": {
        "id": "YKQ_mRBttWsP",
        "colab_type": "text"
      },
      "source": [
        "Respuesta"
      ]
    },
    {
      "cell_type": "markdown",
      "metadata": {
        "id": "kAkDPUyRtYyH",
        "colab_type": "text"
      },
      "source": [
        "Describe brevemente las lineas de como crees que es posible avanzar en el estudio del problema. Ten en cuenta incluso posibles variaciones del problema y/o variaciones al alza del tamaño"
      ]
    },
    {
      "cell_type": "markdown",
      "metadata": {
        "id": "IE0uZmo-tZu-",
        "colab_type": "text"
      },
      "source": [
        "Respuesta"
      ]
    }
  ]
}