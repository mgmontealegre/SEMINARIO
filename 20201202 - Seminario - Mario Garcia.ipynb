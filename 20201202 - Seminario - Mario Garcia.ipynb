{
 "cells": [
  {
   "cell_type": "markdown",
   "metadata": {
    "colab_type": "text",
    "id": "hVbXYX-RfPWh"
   },
   "source": [
    "# Algoritmos de optimización - Seminario<br>\n",
    "Nombre y Apellidos:  Mario García Montealegre  <br>\n",
    "Url: https://github.com/mgmontealegre/SEMINARIO/tree/SEMINARIO<br>\n",
    "Problema:\n",
    "Organizar los horarios de partidos de La Liga<br>\n",
    "\n",
    "Descripción del problema:\n",
    "\n",
    "Desde la La Liga de fútbol profesional se pretende organizar los horarios de los partidos de liga de cada jornada. Se conocen algunos datos que nos deben llevar a diseñar un algoritmo que realice la asignación de los partidos a los horarios de forma que maximice la audiencia.                                      "
   ]
  },
  {
   "cell_type": "code",
   "execution_count": null,
   "metadata": {
    "colab": {},
    "colab_type": "code",
    "id": "AiskKkzZfy4e"
   },
   "outputs": [],
   "source": [
    "import math\n",
    "import pandas as pd\n",
    "import numpy as np\n",
    "import random\n",
    "import copy\n",
    "import matplotlib.pyplot as plt\n",
    "import itertools\n",
    "import time"
   ]
  },
  {
   "cell_type": "markdown",
   "metadata": {
    "colab_type": "text",
    "id": "3_-exlrTgLd-"
   },
   "source": [
    "**(*)¿Cuantas posibilidades hay sin tener en cuenta las restricciones?<br>**\n",
    "\n",
    "\n",
    "\n",
    "**¿Cuantas posibilidades hay teniendo en cuenta todas las restricciones.**\n",
    "\n",
    "\n"
   ]
  },
  {
   "cell_type": "markdown",
   "metadata": {
    "colab_type": "text",
    "id": "WfCUqJyKhPcw"
   },
   "source": [
    "Respuesta"
   ]
  },
  {
   "cell_type": "markdown",
   "metadata": {
    "colab": {},
    "colab_type": "code",
    "id": "iq6Fe32MgpDX"
   },
   "source": [
    "Si no tenemos en cuenta las restricciones para este problema, el número de posibilidades es: \n",
    "n = 10!\n",
    "10·9·8·7·6·5·4·3·2·1"
   ]
  },
  {
   "cell_type": "code",
   "execution_count": null,
   "metadata": {},
   "outputs": [],
   "source": [
    "print(math.factorial(10))"
   ]
  },
  {
   "cell_type": "markdown",
   "metadata": {},
   "source": [
    "Si tenemos en cuenta las restricciones para este problema, que serían las de repetición y que tenga que haber un partido tanto lunes como viernes, el número de posibilidades es: "
   ]
  },
  {
   "cell_type": "code",
   "execution_count": null,
   "metadata": {},
   "outputs": [],
   "source": [
    "print(10**10 - 5899826978)"
   ]
  },
  {
   "cell_type": "markdown",
   "metadata": {
    "colab_type": "text",
    "id": "dzynfVJahHoY"
   },
   "source": [
    "#### Modelo para el espacio de soluciones<br>\n",
    "#### (*) ¿Cual es la estructura de datos que mejor se adapta al problema? \n",
    "#### Argumentalo. (Es posible que hayas elegido una al principio y veas la \n",
    "#### necesidad de cambiar, argumentalo)\n"
   ]
  },
  {
   "cell_type": "markdown",
   "metadata": {
    "colab_type": "text",
    "id": "xFIJrOwKi2Ti"
   },
   "source": [
    "Respuesta"
   ]
  },
  {
   "cell_type": "markdown",
   "metadata": {
    "colab": {},
    "colab_type": "code",
    "id": "38c-7-ejhJmA"
   },
   "source": [
    "Para este problema en cuestión creo que la mejor estructura datos a utilizar es la crear una matriz de 10x10 en el que cada fila representará un partido de fútbol y cada columna un horario.\n",
    "\n",
    "Al colocar así los datos y completar la matriz con los valores de la audiencia según la hora, ya tendríamos calculada la audiencia para cada uno de los diferentes partidos.\n",
    "\n",
    "Por lo que podremos iterar entre las múltiples soluciones posibles y escoger la mejor."
   ]
  },
  {
   "cell_type": "markdown",
   "metadata": {
    "colab_type": "text",
    "id": "7Z9U2W7bi-XS"
   },
   "source": [
    "#### Según el modelo para el espacio de soluciones<br>\n",
    "#### (*)¿Cual es la función objetivo?\n",
    "\n",
    "#### (*)¿Es un problema de maximización o minimización? "
   ]
  },
  {
   "cell_type": "markdown",
   "metadata": {
    "colab_type": "text",
    "id": "hBalWLM7j1_d"
   },
   "source": [
    "Respuesta"
   ]
  },
  {
   "cell_type": "markdown",
   "metadata": {
    "colab": {},
    "colab_type": "code",
    "id": "pDA-rg3Gj5Lz"
   },
   "source": [
    "Como función objetivo tenemos que:\n",
    "$$\\sum_{}{}audiencia  \\ base \\ coeficiente \\ horario \\ - \\ (audiencia \\ base \\ coeficiente \\  horario \\ * \\ coincidentes)$$"
   ]
  },
  {
   "cell_type": "markdown",
   "metadata": {},
   "source": [
    "Se trata de un problema de maximización, ya que el principal objetivo en este caso es maximizar la audiencia de la jornada de Liga."
   ]
  },
  {
   "cell_type": "markdown",
   "metadata": {
    "colab_type": "text",
    "id": "rlnTYgY1j6I2"
   },
   "source": [
    "#### Diseña un algoritmo para resolver el problema por fuerza bruta"
   ]
  },
  {
   "cell_type": "markdown",
   "metadata": {
    "colab_type": "text",
    "id": "70rDgxYXkC8r"
   },
   "source": [
    "Respuesta"
   ]
  },
  {
   "cell_type": "markdown",
   "metadata": {
    "colab": {},
    "colab_type": "code",
    "id": "CJb5sQ0qkENy"
   },
   "source": [
    "Sin restricciones y sin repetición:\n",
    "\n",
    "Como hemos comentado anteriormente, tenemos una matriz que tiene representada la audiencia de cada partido en cada una de las filas y los diferentes horarios en cada una de las columnas.\n",
    "Tal que como solución obtendremos un índice del horario y un índice del partido.    "
   ]
  },
  {
   "cell_type": "code",
   "execution_count": null,
   "metadata": {},
   "outputs": [],
   "source": [
    "for i 0:9\n",
    "\n",
    "  for j (i+1:9)\n",
    "    for n (k+1:9)\n",
    "      solucion=(i,j,..k,n)\n",
    "      audiencia= sumatorio (matriz(i,solucion[i]) for i in 1:10)\n",
    "      \n",
    "      if audiencia > audiencia_final \n",
    "        audiencia_final=audiencia\n",
    "        mejor_solucion=solucion"
   ]
  },
  {
   "cell_type": "markdown",
   "metadata": {},
   "source": [
    "Con restricciones y repetición.\n",
    "Siendo matriz la matriz que representa la audiencia de cada partido en las filas y por cada horario las columnas.\n",
    "La solución representa el índice del horario de la matriz, y la posición del vector representa el indice del partido."
   ]
  },
  {
   "cell_type": "code",
   "execution_count": null,
   "metadata": {},
   "outputs": [],
   "source": [
    "for i 0:9\n",
    "  for j (i+1:9)\n",
    "    for n desde k hasta 9\n",
    "        solucion=(i,j,..k,n)\n",
    "        if 0 or 9 not in solucion\n",
    "          next\n",
    "        audiencia= sumatorio (matriz(i,solucion[i]) for i in 1:10)\n",
    "      \n",
    "      if audiencia > audiencia_final \n",
    "        audiencia_final=audiencia\n",
    "        mejor_solucion=solucion"
   ]
  },
  {
   "cell_type": "markdown",
   "metadata": {
    "colab_type": "text",
    "id": "tgrnsC2nkFa8"
   },
   "source": [
    "#### Calcula la complejidad del algoritmo por fuerza bruta"
   ]
  },
  {
   "cell_type": "markdown",
   "metadata": {
    "colab_type": "text",
    "id": "9eUd3xwckP68"
   },
   "source": [
    "Respuesta"
   ]
  },
  {
   "cell_type": "markdown",
   "metadata": {
    "colab": {},
    "colab_type": "code",
    "id": "rvZWwL-ckRST"
   },
   "source": [
    "La complejidad del algoritmo sin repetición es de n! mientras que la complejidad del algoritmo con repetición sería de o**n."
   ]
  },
  {
   "cell_type": "markdown",
   "metadata": {
    "colab_type": "text",
    "id": "txbrmLmskReM"
   },
   "source": [
    "(*)Diseña un algoritmo que mejore la complejidad del algortimo por fuerza bruta. Argumenta porque crees que mejora el algoritmo por fuerza bruta"
   ]
  },
  {
   "cell_type": "markdown",
   "metadata": {
    "colab_type": "text",
    "id": "hLrVwt5QkZPD"
   },
   "source": [
    "Respuesta"
   ]
  },
  {
   "cell_type": "markdown",
   "metadata": {
    "colab": {},
    "colab_type": "code",
    "id": "m1eyM21Vkabg"
   },
   "source": [
    "En este caso vamos a utilizar uno de los algoritmos de búsqueda, en concreto, la técnica de ramificación y poda."
   ]
  },
  {
   "cell_type": "code",
   "execution_count": null,
   "metadata": {},
   "outputs": [],
   "source": [
    "  mejorOpcion = newNode(valores random)\n",
    "  # Se crea el nodo inicial y se le pone como primer nodo a expandir\n",
    "  # FNode: Final Node\n",
    "  FNode = newNode(valores iniciales)\n",
    "  \n",
    "  si FNode != null \n",
    "    \n",
    "    # Se obtiene el nodo mayor score\n",
    "    # PNode: Posible Node\n",
    "    PNode = max(FNode)\n",
    "  \n",
    "    # Siempre que se pueda ramificar\n",
    "      HNode = un hijo del FNode\n",
    "    \n",
    "      si HNode es solución entonces\n",
    "        si HNode.coste mayor que mejorOpcion.coste entonces\n",
    "          el nodo NO se poda\n",
    "            # Hacemos el update cada vez que vaya mejorando \n",
    "            mejorOpcion = HNode\n",
    "\n",
    "      # Una vez que comprobado cada hijo,eliminamos todos los que no superen el valor mejorOpcion\n",
    "      # Se van añadiendo los hijos aptos\n",
    "      FNode = FNode.append(HNode)"
   ]
  },
  {
   "cell_type": "markdown",
   "metadata": {},
   "source": [
    "Este algoritmo de búsqueda, normalmente, debería mejorar al algoritmo de fuerza bruta debido a que no tendría iterar por todas y cada una de las posibles soluciones sino que lo haría por los PNodes e iríamos descartando los peores nodos.\n",
    "\n",
    "Pero hemos de tener en cuenta, que en el peor de los casos que tuviese que recorrer todas las soluciones posibles, tendría una complejidad igual al de fuerza bruta, pero demoraría más porque el número de operaciones a realizar para obtener todos los posibles nodos, sería mayor."
   ]
  },
  {
   "cell_type": "markdown",
   "metadata": {},
   "source": [
    "Algoritmo genético para resolver el problema con restricciones y repetición."
   ]
  },
  {
   "cell_type": "markdown",
   "metadata": {},
   "source": [
    "Inicio\n",
    "  t = 0;\n",
    "  inicializar P(t);\n",
    "  evaluar P(t);\n",
    "  \n",
    "    Mientras (no se cumpla la condición de parada) hacer\n",
    "      t = t + 1\n",
    "      seleccionar P(t) desde P(t-1)\n",
    "      recombinar P(t)\n",
    "      mutación P(t)\n",
    "      evaluar P(t)"
   ]
  },
  {
   "cell_type": "markdown",
   "metadata": {},
   "source": [
    "Si finalmente nos decantamos por utilizar un algoritmo genético, la complejidad se reduce sustancialmente y podemos encontrar la solución más óptima en menor tiempo. Debido al gran número de posibilidades sería casi inviable realizarlo por fuerza bruta."
   ]
  },
  {
   "cell_type": "markdown",
   "metadata": {
    "colab_type": "text",
    "id": "eGDB4K6uk1iN"
   },
   "source": [
    "#### Calcula la complejidad del algoritmo "
   ]
  },
  {
   "cell_type": "markdown",
   "metadata": {
    "colab_type": "text",
    "id": "NhpTh_BPk1ms"
   },
   "source": [
    "Respuesta"
   ]
  },
  {
   "cell_type": "markdown",
   "metadata": {
    "colab": {},
    "colab_type": "code",
    "id": "nREzhkStlCq8"
   },
   "source": [
    "Utilizando la técnica de búsqueda de ramificación y poda nos encontramos con una complejidad exponencial, aunque podríamos llegar a la mejor solución en un tiempo polinómico."
   ]
  },
  {
   "cell_type": "markdown",
   "metadata": {
    "colab_type": "text",
    "id": "3M6QjTsSkmYe"
   },
   "source": [
    "#### Según el problema (y tenga sentido), diseña un juego de datos de entrada aleatorios"
   ]
  },
  {
   "cell_type": "markdown",
   "metadata": {
    "colab_type": "text",
    "id": "Jc3_OlyNkvjZ"
   },
   "source": [
    "Respuesta"
   ]
  },
  {
   "cell_type": "code",
   "execution_count": null,
   "metadata": {
    "colab": {},
    "colab_type": "code",
    "id": "sJ-N2etjkyWc",
    "scrolled": true
   },
   "outputs": [],
   "source": [
    "horario = pd.DataFrame({'Horario':['Viernes_20','Sabado_12','Sabado_16','Sabado_18','Sabado_20','Domingo_12','Domingo_16','Domingo_18','Domingo_20','Lunes_20'],\n",
    "                            'Valor':[0.4,0.55,0.7,0.8,1,0.75,0.75,0.85,1,0.4]})\n",
    "horario"
   ]
  },
  {
   "cell_type": "code",
   "execution_count": null,
   "metadata": {},
   "outputs": [],
   "source": [
    "equipos = pd.DataFrame({'Equipo':['Celta','Real Madrid',\n",
    "                                  'Valencia','Real Sociedad',\n",
    "                                  'Mallorca','Eibar',\n",
    "                                  'Athletic','Barcelona',\n",
    "                                  'Leganes','Osasuna',\n",
    "                                  'Villarreal','Granada',\n",
    "                                  'Alaves','Levante',\n",
    "                                  'Espanyol','Sevilla',\n",
    "                                  'Betis','Valladolid',\n",
    "                                  'Atletico','Getafe'],\n",
    "                         'Categoria':['B','A',\n",
    "                                      'B','A',\n",
    "                                      'C','C',\n",
    "                                      'B','A',\n",
    "                                      'C','C',\n",
    "                                      'B','C',\n",
    "                                      'B','B',\n",
    "                                      'B','B',\n",
    "                                      'B','C',\n",
    "                                      'B','B']})\n",
    "equipos = equipos.sort_values(by=['Categoria'])\n",
    "equipos"
   ]
  },
  {
   "cell_type": "code",
   "execution_count": null,
   "metadata": {},
   "outputs": [],
   "source": [
    "coincidencias = pd.DataFrame({'Coincidencias':range(0,9),'coef_coincidencias':[0.0,0.25,0.45,0.6,0.7,0.75,0.78,0.8,0.8]})\n",
    "coincidencias"
   ]
  },
  {
   "cell_type": "code",
   "execution_count": null,
   "metadata": {},
   "outputs": [],
   "source": [
    "categorias = pd.DataFrame({'A':[2000000,1300000,1000000],\n",
    "                           'B':[1300000,900000,750000],\n",
    "                           'C':[1000000, 750000, 470000]}, \n",
    "                          index =['A','B','C'])\n",
    "categorias"
   ]
  },
  {
   "cell_type": "code",
   "execution_count": null,
   "metadata": {},
   "outputs": [],
   "source": [
    "def generator_calendar(confrontations):\n",
    "    # Convertimos en lista\n",
    "    confrontations = list(confrontations)  \n",
    "    m = len(confrontations)\n",
    "\n",
    "    # Evaluamos que sea divisible entre 2\n",
    "    if m % 2:  \n",
    "        confrontations.append('_')\n",
    "        m += 1\n",
    "\n",
    "    # Creamos el vector de partidos vacío\n",
    "    matches = []\n",
    "    for _ in range(m-1):\n",
    "        # Nos aseguramos que son enteros en la division\n",
    "        cons = zip(confrontations[:m//2], reversed(confrontations[m//2:]))\n",
    "        matches.append(list(cons))\n",
    "        confrontations.insert(1, confrontations.pop())\n",
    "    return matches"
   ]
  },
  {
   "cell_type": "code",
   "execution_count": null,
   "metadata": {
    "scrolled": true
   },
   "outputs": [],
   "source": [
    "lista_equipos = list(equipos['Equipo'])\n",
    "jornada = generator_calendar(lista_equipos)[10]\n",
    "jornada "
   ]
  },
  {
   "cell_type": "code",
   "execution_count": null,
   "metadata": {
    "scrolled": true
   },
   "outputs": [],
   "source": [
    "total = pd.DataFrame.from_records(jornada, columns =['Equipo_A', 'Equipo_B']) \n",
    "total = pd.merge(total, equipos, left_on = ['Equipo_A'], right_on = ['Equipo'])\n",
    "total = pd.merge(total, equipos, left_on = ['Equipo_B'], right_on = ['Equipo'])\n",
    "total = total.drop(['Equipo_x','Equipo_y'], axis = 1)\n",
    "total = total.rename(columns = {'Categoria_x':'Categoria_A','Categoria_y':'Categoria_B'})\n",
    "total['Audiencia'] = [categorias.loc[total.iloc[i,3],total.iloc[i,2]] for i in range(0,len(total))]\n",
    "total['Enfrentamiento'] = total.Equipo_A + \"_vs_\" + total.Equipo_B\n",
    "total"
   ]
  },
  {
   "cell_type": "code",
   "execution_count": null,
   "metadata": {
    "scrolled": true
   },
   "outputs": [],
   "source": [
    "match_matrix = pd.DataFrame(np.outer(np.array(horario['Valor']),np.array(total['Audiencia'])), columns = horario.Horario, index = total['Enfrentamiento'])\n",
    "match_matrix"
   ]
  },
  {
   "cell_type": "markdown",
   "metadata": {
    "colab_type": "text",
    "id": "zy5ZROmjlGo1"
   },
   "source": [
    "#### Aplica el algoritmo al juego de datos generado"
   ]
  },
  {
   "cell_type": "markdown",
   "metadata": {
    "colab_type": "text",
    "id": "_Cmj-PVylMsa"
   },
   "source": [
    "Respuesta"
   ]
  },
  {
   "cell_type": "code",
   "execution_count": null,
   "metadata": {},
   "outputs": [],
   "source": [
    "Algoritmo de fuerza bruta sin restricciones ni repetición"
   ]
  },
  {
   "cell_type": "code",
   "execution_count": null,
   "metadata": {
    "colab": {},
    "colab_type": "code",
    "id": "Jkx8GeiYlUz1"
   },
   "outputs": [],
   "source": [
    "def algoritmo_1(matriz):\n",
    "  audience = 0\n",
    "  for i in itertools.permutations(range(10)):\n",
    "    value = 0\n",
    "    n_partidos = range(0,10)\n",
    "    for j in n_partidos:\n",
    "      valor += matriz.iloc[j,i[j]]\n",
    "\n",
    "    if value > audience:\n",
    "      audience = value\n",
    "      mejor_opcion = i\n",
    "  print(audience, mejor_opcion)"
   ]
  },
  {
   "cell_type": "code",
   "execution_count": null,
   "metadata": {},
   "outputs": [],
   "source": [
    "start_time = time.time()\n",
    "algoritmo_1(match_matrix)\n",
    "print(\"Tiempo de ejecución en segundos:\" % (time.time() - start_time))"
   ]
  },
  {
   "cell_type": "markdown",
   "metadata": {},
   "source": [
    "Algoritmo de fuerza bruta con restricciones encasillando algún partido el lunes y el viernes."
   ]
  },
  {
   "cell_type": "code",
   "execution_count": null,
   "metadata": {},
   "outputs": [],
   "source": [
    "result = itertools.filterfalse(lambda x : (0 not in x) or (9 not in x), itertools.product(range(10),repeat = 10))"
   ]
  },
  {
   "cell_type": "code",
   "execution_count": null,
   "metadata": {},
   "outputs": [],
   "source": [
    "def algoritmo_2(matriz):\n",
    "  audience = 0\n",
    "  contador = 4000000\n",
    "  counters = 0\n",
    "  for i in result:\n",
    "    valor = 0\n",
    "\n",
    "    for j in range(0,10):\n",
    "      valor += (matriz.iloc[j,i[j]] - (matriz.iloc[j,i[j]] * coincidencias.loc[i.count(i[j])-1,'ratio_coincidencias']))\n",
    "\n",
    "    if valor > audience:\n",
    "      audience = valor\n",
    "      mejor_opcion = i\n",
    "    if counters == contador:\n",
    "          break\n",
    "    counters+=1\n",
    "  print(audience, mejor_opcion)"
   ]
  },
  {
   "cell_type": "code",
   "execution_count": null,
   "metadata": {},
   "outputs": [],
   "source": [
    "start_time = time.time()\n",
    "algoritmo_2(match_matrix)\n",
    "print(\"Tiempo de ejecución en segundos:\" % (time.time() - start_time))"
   ]
  },
  {
   "cell_type": "markdown",
   "metadata": {},
   "source": [
    "#### Algoritmo de Ramificación y poda para el problema sin restricciones ni repetición"
   ]
  },
  {
   "cell_type": "code",
   "execution_count": null,
   "metadata": {},
   "outputs": [],
   "source": [
    "def valor(solucion,costes):\n",
    "  value = 0\n",
    "  for i in range(len(solucion)):\n",
    "    value += costes.iloc[i,solucion[i]]\n",
    "  \n",
    "  return value\n",
    "\n",
    "def costs(solucion,costes):\n",
    "  value = 0\n",
    "  \n",
    "  for i in range(len(solucion)):\n",
    "    value += costes.iloc[i,solucion[i]]\n",
    "  for i in range(len(costes)):\n",
    "    if i not in solucion:\n",
    "      value += max([costes.iloc[i,j] for j in range(len(solucion),len(costes) ) ])\n",
    "   \n",
    "  return value\n",
    "\n",
    "def create_nodes(nodo, N):\n",
    "  hijos=[]\n",
    "  for i in range(N):\n",
    "    if i not in nodo:\n",
    "      hijos.append({'Solucion':nodo+(i,)})\n",
    "      \n",
    "  return hijos\n",
    "\n",
    "def split_and_pode(costes):\n",
    "  dim = len(costes)\n",
    "  print(dim)\n",
    "  mejor_solucion = tuple(i for i in range(dim))\n",
    "  \n",
    "  cota_inf = 6300000\n",
    "  \n",
    "  nodos = []\n",
    "  \n",
    "  nodos.append({'Solucion':() , 'cota_superior':costs([],costes) })\n",
    "  print(nodos)\n",
    "  \n",
    "  i = 0\n",
    "  while(len(nodos) > 0):\n",
    "    i += 1\n",
    "    nodo_potencial = max(nodos, key = lambda x:x['cota_superior']) \n",
    "    hijos = [ {'Solucion':x['Solucion'], 'cota_superior':costs(x['Solucion'],costes)} for x in create_nodes(nodo_potencial['Solucion'], dim) ]\n",
    "    nodo_final = [x for x in hijos if len(x['Solucion']) == dim]\n",
    "        \n",
    "    if len(nodo_final)>0:\n",
    "      \n",
    "      if nodo_final[0]['cota_superior'] > cota_inf:\n",
    "        cota_inf = nodo_final[0]['cota_superior']\n",
    "        mejor_solucion = nodo_final[0]\n",
    "    \n",
    "    #poda\n",
    "    hijos = [ x for x in hijos if x['cota_superior'] > cota_inf ]\n",
    "    \n",
    "    #eliminamos el nodo expandido\n",
    "    nodos = [ x for x in nodos if x['Solucion'] != nodo_potencial['Solucion'] ]\n",
    "    \n",
    "    #se añaden los hijos\n",
    "    nodos.extend(hijos)\n",
    "    \n",
    "  print(mejor_solucion)\n",
    "  "
   ]
  },
  {
   "cell_type": "code",
   "execution_count": null,
   "metadata": {},
   "outputs": [],
   "source": [
    "start_time = time.time()\n",
    "split_and_pode(match_matrix)\n",
    "print(\"Tiempo de ejecución en segundos:\" % (time.time() - start_time))"
   ]
  },
  {
   "cell_type": "code",
   "execution_count": null,
   "metadata": {},
   "outputs": [],
   "source": [
    "split_and_pode_total(matriz)"
   ]
  },
  {
   "cell_type": "markdown",
   "metadata": {},
   "source": [
    "Justificación. En este caso, el algoritmo de búsqueda de ramificación y poda no resulta más eficiente que los anteriores de fuerza bruza debido a que la diferencia entre las cotas superiores y la inferior es muy grande. Por lo tanto, el número de nodos a analizar por parte del algoritmo es mucho mayor.\n",
    "\n",
    "En cualquier caso, se puede optimizar el tiempo de ejecución del algoritmo seleccionando otra cota inferior y así, se podarían más los nodos."
   ]
  },
  {
   "cell_type": "markdown",
   "metadata": {
    "colab_type": "text",
    "id": "eTFWUJQrtGcv"
   },
   "source": [
    "#### Enumera las referencias que has utilizado(si ha sido necesario) para llevar a cabo el trabajo"
   ]
  },
  {
   "cell_type": "markdown",
   "metadata": {
    "colab_type": "text",
    "id": "YKQ_mRBttWsP"
   },
   "source": [
    "Respuesta"
   ]
  },
  {
   "cell_type": "markdown",
   "metadata": {},
   "source": [
    "Para generar el calendario y los emparejamientos me basé en este script: https://code.activestate.com/recipes/65200/\n",
    "Y para el resto, me he basado en las actividades guiadas."
   ]
  },
  {
   "cell_type": "markdown",
   "metadata": {
    "colab_type": "text",
    "id": "kAkDPUyRtYyH"
   },
   "source": [
    "Describe brevemente las lineas de como crees que es posible avanzar en el estudio del problema. Ten en cuenta incluso posibles variaciones del problema y/o variaciones al alza del tamaño"
   ]
  },
  {
   "cell_type": "markdown",
   "metadata": {
    "colab_type": "text",
    "id": "IE0uZmo-tZu-"
   },
   "source": [
    "Respuesta"
   ]
  },
  {
   "cell_type": "code",
   "execution_count": null,
   "metadata": {},
   "outputs": [],
   "source": []
  }
 ],
 "metadata": {
  "colab": {
   "collapsed_sections": [],
   "name": "Seminario - Algoritmos.ipynb",
   "provenance": [],
   "version": "0.3.2"
  },
  "kernelspec": {
   "display_name": "Python 3",
   "language": "python",
   "name": "python3"
  },
  "language_info": {
   "codemirror_mode": {
    "name": "ipython",
    "version": 3
   },
   "file_extension": ".py",
   "mimetype": "text/x-python",
   "name": "python",
   "nbconvert_exporter": "python",
   "pygments_lexer": "ipython3",
   "version": "3.8.5"
  }
 },
 "nbformat": 4,
 "nbformat_minor": 1
}
